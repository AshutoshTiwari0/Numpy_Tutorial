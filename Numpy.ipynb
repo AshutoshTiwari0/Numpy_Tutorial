{
 "cells": [
  {
   "cell_type": "code",
   "execution_count": 15,
   "id": "8ad39450-d4b2-415b-a116-54a51e606640",
   "metadata": {},
   "outputs": [],
   "source": [
    "#numpy gives us multi dimensional arrays\n",
    "#it is fast compared to list\n",
    "#advantages of numpy\n",
    "\"\"\"\n",
    "->less memory consumption\n",
    "->faster than lists\n",
    "->easier to use\n",
    "\"\"\"\n",
    "import numpy as np\n"
   ]
  },
  {
   "cell_type": "code",
   "execution_count": 16,
   "id": "a64d15da-a2d9-4891-8b00-0f70947b419e",
   "metadata": {},
   "outputs": [
    {
     "name": "stdout",
     "output_type": "stream",
     "text": [
      "[ 1  2  3  4  5  7  8  9 10]\n",
      "<class 'numpy.ndarray'>\n"
     ]
    }
   ],
   "source": [
    "x=np.array([1,2,3,4,5,7,8,9,10])\n",
    "print(x)\n",
    "print(type(x))"
   ]
  },
  {
   "cell_type": "code",
   "execution_count": 17,
   "id": "5e135eed-78b6-4593-9211-cb878d8bcae2",
   "metadata": {},
   "outputs": [
    {
     "name": "stdout",
     "output_type": "stream",
     "text": [
      "[1, 2, 3, 4, 5, 6, 7, 8, 9, 10]\n",
      "<class 'list'>\n"
     ]
    }
   ],
   "source": [
    "y=[1,2,3,4,5,6,7,8,9,10]\n",
    "print(y)\n",
    "print(type(y))\n",
    "#numpy arrays was seperated with spaces whereas list is seperated by commas\n"
   ]
  },
  {
   "cell_type": "code",
   "execution_count": 19,
   "id": "575702d3-c6f6-4aed-969e-a9b2593ce910",
   "metadata": {},
   "outputs": [
    {
     "name": "stdout",
     "output_type": "stream",
     "text": [
      "542 ns ± 34 ns per loop (mean ± std. dev. of 7 runs, 1,000,000 loops each)\n",
      "2.11 µs ± 270 ns per loop (mean ± std. dev. of 7 runs, 100,000 loops each)\n"
     ]
    }
   ],
   "source": [
    "#difference between list and numpy\n",
    "\"\"\"\n",
    "data type storage->list can have diff data types in a single list.\n",
    "numpy has majorly singular data type. we can do merge them but we generally maintain a singular data type.\n",
    "\n",
    "NUMERICAL OPERATIONS-> List has limited efficiency compared to numpy.\n",
    "it acta as a matrix so more operations possible.\n",
    "\n",
    "can be made into multidimensional arrays.\n",
    "\n",
    "\n",
    "List takes more memory comapred to numpy.\n",
    "\n",
    "Easier to use for a big data.\n",
    "\"\"\"\n",
    "\n",
    "#time difference between creation of numpy and normal arrays using timeit() method\n",
    "%timeit [j**4 for j in range(1,9)] #took 597ns\n",
    "#arange()-> creates an array beyween the given range\n",
    "%timeit np.arange(1,9)**4\n",
    "\n"
   ]
  },
  {
   "cell_type": "code",
   "execution_count": 3,
   "id": "26b02b33-ab23-47f8-b159-cfe34ab3aeea",
   "metadata": {},
   "outputs": [
    {
     "name": "stdout",
     "output_type": "stream",
     "text": [
      "[1 2 3]\n",
      "[1 2 3 4]\n",
      "<class 'numpy.ndarray'>\n"
     ]
    },
    {
     "data": {
      "text/plain": [
       "array([1, 2, 3, 4])"
      ]
     },
     "execution_count": 3,
     "metadata": {},
     "output_type": "execute_result"
    }
   ],
   "source": [
    "#creation of numpy arrays\n",
    "import numpy as np\n",
    "a=np.array([1,2,3])\n",
    "x=[1,2,3,4]\n",
    "#converting x to array\n",
    "y=np.array(x)\n",
    "\n",
    "print(a)\n",
    "print(y)\n",
    "print(type(y))\n",
    "y"
   ]
  },
  {
   "cell_type": "code",
   "execution_count": 4,
   "id": "4a487b3f-ead8-4bd6-8889-0aae224eb2d9",
   "metadata": {},
   "outputs": [
    {
     "name": "stdin",
     "output_type": "stream",
     "text": [
      "enter number 5\n",
      "enter number 5\n",
      "enter number 4\n",
      "enter number 4\n"
     ]
    },
    {
     "name": "stdout",
     "output_type": "stream",
     "text": [
      "[5 5 4 4]\n"
     ]
    }
   ],
   "source": [
    "l=[]\n",
    "for i in range(1,5):\n",
    "    input_value=int(input(\"enter number\"))\n",
    "    l.append(input_value)\n",
    "#we got data as string.so convert to integer in input()\n",
    "print(np.array(l))"
   ]
  },
  {
   "cell_type": "code",
   "execution_count": 5,
   "id": "8cc66e9e-83da-49a0-8afa-33dc9a97289e",
   "metadata": {},
   "outputs": [
    {
     "name": "stdout",
     "output_type": "stream",
     "text": [
      "[[[1 2 3]\n",
      "  [4 5 6]\n",
      "  [7 8 9]]]\n",
      "3\n",
      "[[[[[[[[[[1 2 3 4]]]]]]]]]]\n",
      "10\n"
     ]
    }
   ],
   "source": [
    "#types of arrays->1D,2D,3D........\n",
    "#number of blocks->dimension\n",
    "\"\"\"\n",
    "[]->1d\n",
    "[[]]->2d\n",
    "[[[]]]->3d\n",
    "\"\"\"\n",
    "#ndim()->tells dimension of array\n",
    "#number of data should be of same length in each sublist\n",
    "y=np.array([[[1,2,3],[4,5,6],[7,8,9]]])\n",
    "print(y)\n",
    "print(y.ndim) #->tells the dimension of array\n",
    "\n",
    "\n",
    "\n",
    "#creating n dimension array\n",
    "#ndim-> number of dimensions\n",
    "arn=np.array([1,2,3,4],ndmin=10)\n",
    "print(arn)\n",
    "print(arn.ndim)\n"
   ]
  },
  {
   "cell_type": "code",
   "execution_count": null,
   "id": "cea90782-85c0-4963-98d5-9804dba484c4",
   "metadata": {},
   "outputs": [],
   "source": [
    "#creation of numpy array using functions"
   ]
  },
  {
   "cell_type": "code",
   "execution_count": null,
   "id": "7793ad5d-53db-4b6d-9174-30072c0126b0",
   "metadata": {},
   "outputs": [],
   "source": [
    "\"\"\"array filled with 0's\n",
    "array filled with 1's\n",
    "creating an empty array\n",
    "array with range of elements\n",
    "diagonals filled with a particular number\n",
    "array filled with a specified intervals\n",
    "we can do all these things with numpy\"\"\"\n"
   ]
  },
  {
   "cell_type": "code",
   "execution_count": 31,
   "id": "fca75fa2-5113-465e-8d59-416b20960686",
   "metadata": {},
   "outputs": [
    {
     "name": "stdout",
     "output_type": "stream",
     "text": [
      "[0. 0. 0. 0.]\n",
      "\n",
      "[[0. 0. 0. 0.]\n",
      " [0. 0. 0. 0.]\n",
      " [0. 0. 0. 0.]\n",
      " [0. 0. 0. 0.]]\n",
      "[1. 1. 1. 1. 1.]\n",
      "\n",
      "empty array is [1. 1. 1. 1. 1.]\n"
     ]
    }
   ],
   "source": [
    "#array with zeros\n",
    "import numpy as np\n",
    "\n",
    "arr_with_zeros=np.zeros(4)\n",
    "\n",
    "#zero 2d array\n",
    "arr_with_zero_twod=np.zeros((4,4))\n",
    "\n",
    "print(arr_with_zeros)\n",
    "print() #for a gap\n",
    "print(arr_with_zero_twod)\n",
    "\n",
    "\n",
    "#array with all ones\n",
    "arr_with_all_ones=np.ones(5)\n",
    "print(arr_with_all_ones)\n",
    "\n",
    "print() #for a gap\n",
    "#creation of empty array\n",
    "arr_with_empty=np.empty(5)\n",
    "print(f\"empty array is {arr_with_empty}\") #but we might not see it empty bcoz agar usse pahle koi bana hua hoga array toh usme vhi data aa jata hai"
   ]
  },
  {
   "cell_type": "code",
   "execution_count": 22,
   "id": "54632b32-0165-4854-8b8c-2df356719398",
   "metadata": {},
   "outputs": [
    {
     "name": "stdout",
     "output_type": "stream",
     "text": [
      "[[7.52590993e-312 7.52626763e-312 0.00000000e+000 6.95202422e-310\n",
      "  2.51973479e-322 7.52646034e-312 7.52654956e-312]\n",
      " [7.52654956e-312 7.52646073e-312 7.52646073e-312 7.52646075e-312\n",
      "  7.52646075e-312 7.52646075e-312 7.52654956e-312]\n",
      " [7.52646074e-312 7.52654956e-312 7.52654956e-312 7.52646074e-312\n",
      "  7.52654956e-312 7.52646076e-312 7.52646075e-312]\n",
      " [7.52654956e-312 7.52646075e-312 7.52654957e-312 7.52654957e-312\n",
      "  7.52646074e-312 7.52646074e-312 7.52654957e-312]\n",
      " [7.52646077e-312 7.52654957e-312 7.52646077e-312 7.52646077e-312\n",
      "  7.52646076e-312 7.52646076e-312 7.52646074e-312]\n",
      " [7.52654957e-312 7.52646076e-312 7.52646135e-312 7.52646138e-312\n",
      "  7.52646136e-312 7.52646137e-312 7.52646138e-312]\n",
      " [7.52646138e-312 7.52646138e-312 7.52654957e-312 7.52654957e-312\n",
      "  7.52654957e-312 7.52646138e-312 7.52654957e-312]\n",
      " [7.52646139e-312 7.52646139e-312 7.52646139e-312 7.52646139e-312\n",
      "  7.52646139e-312 7.52646139e-312 7.52654957e-312]]\n",
      "[1. 1. 1. 1. 1.]\n"
     ]
    }
   ],
   "source": [
    "empty_array=np.empty((8,7))\n",
    "\n",
    "empty_array2=np.empty(5)\n",
    "print(empty_array)\n",
    "\n",
    "\n",
    "print(empty_array2)"
   ]
  },
  {
   "cell_type": "code",
   "execution_count": null,
   "id": "19b026ed-d0ad-42b0-b1ef-80a7b5fd5897",
   "metadata": {},
   "outputs": [],
   "source": [
    "#array with values in a range"
   ]
  },
  {
   "cell_type": "code",
   "execution_count": 25,
   "id": "3726e878-3abb-4c54-a64c-05aa46d33d84",
   "metadata": {},
   "outputs": [
    {
     "name": "stdout",
     "output_type": "stream",
     "text": [
      "[25 26 27 28 29 30 31 32 33 34 35 36 37 38 39 40 41 42 43 44 45 46 47 48\n",
      " 49 50 51 52 53 54 55 56 57 58 59 60 61 62 63 64 65 66 67 68 69 70 71 72\n",
      " 73 74 75 76 77 78 79 80]\n"
     ]
    }
   ],
   "source": [
    "arr_from_25_to_80=np.arange(25,81) #gives values from 25 to 80\n",
    "print(arr_from_25_to_80)"
   ]
  },
  {
   "cell_type": "code",
   "execution_count": 33,
   "id": "cfbcea27-5dc7-484b-a0c8-bd71d920ff9c",
   "metadata": {},
   "outputs": [
    {
     "name": "stdout",
     "output_type": "stream",
     "text": [
      "[[1. 0. 0.]\n",
      " [0. 1. 0.]\n",
      " [0. 0. 1.]]\n",
      "[[1. 0. 0. 0. 0.]\n",
      " [0. 1. 0. 0. 0.]\n",
      " [0. 0. 1. 0. 0.]]\n"
     ]
    }
   ],
   "source": [
    "#diagonal arrays -> we use eye() method\n",
    "\"\"\"\n",
    "[1 0 0\n",
    " 0 1 0\n",
    " 0 0 1]\n",
    "\"\"\"\n",
    "dig_array=np.eye(3)\n",
    "print(dig_array)\n",
    "\n",
    "diag_array=np.eye(3,5) #create a 3*5 array and fill its diagonal with one\n",
    "print(diag_array)"
   ]
  },
  {
   "cell_type": "code",
   "execution_count": 41,
   "id": "8066babc-c20c-474e-8793-63b89a5b3342",
   "metadata": {},
   "outputs": [
    {
     "name": "stdout",
     "output_type": "stream",
     "text": [
      "[ 0.   2.5  5.   7.5 10. ]    [ 0.  5. 10. 15. 20.]\n"
     ]
    }
   ],
   "source": [
    "#array with a special interval. we use linspace()\n",
    "arr_linspace=np.linspace(0,10,num=5) #1 se 10 tk aise 5 number do jinme gap same ho.\n",
    "arr_linsapce2=np.linspace(0,20,num=5)\n",
    "print(f\"{arr_linspace}    {arr_linsapce2}\")"
   ]
  },
  {
   "cell_type": "code",
   "execution_count": 43,
   "id": "53a3f770-3e95-40d2-a487-73a86b84b8ef",
   "metadata": {},
   "outputs": [],
   "source": [
    "#operations using numpy\n",
    "#random generation of array with random numbers\n",
    "\"\"\"\n",
    "rand()-> random number between 0 and 1\n",
    "randn()-> generates a value close to zero. This may return positive or negative numbers as well\n",
    "ranf()-> gives an arrya of specified shapes and fills it with random floats in interval[0.0,1.0)\n",
    "randint()-> Used for generation of a random number between a given range\n",
    "\"\"\"\n",
    "import numpy as np"
   ]
  },
  {
   "cell_type": "code",
   "execution_count": 60,
   "id": "99622ea1-9fc8-43b2-9eb9-910a3efe2983",
   "metadata": {},
   "outputs": [
    {
     "name": "stdout",
     "output_type": "stream",
     "text": [
      "[0.42576468 0.42072283 0.88961645 0.55559087 0.90064387 0.69829165\n",
      " 0.02111377 0.19946304 0.76345756 0.67911185]\n",
      "[[0.99016716 0.82861406 0.71112039 0.81774366 0.70314198]\n",
      " [0.42755442 0.6534374  0.4205814  0.92886628 0.35454192]]\n",
      "[ 0.74361023 -0.46266155  0.6187589   1.80048344 -1.67567386]\n",
      "[0.18126295 0.73346963 0.19095065 0.49787263]\n",
      "[8 4 7 8 9]\n"
     ]
    }
   ],
   "source": [
    "#rand()-> works on rnadom() module so always add np.random......\n",
    "rand_nums=np.random.rand(10) #a 1d array with 10 values will be generated.\n",
    "print(rand_nums) #10 random vlaues between 0 and 1 \n",
    "\n",
    "\n",
    "#mutli dimension random array\n",
    "var1=np.random.rand(2,5) #a 2*5 dda formed with random values\n",
    "print(var1)\n",
    "\n",
    "#randn()-> close to zero numbers will be generated. it can also give negative numbers. WHEREAS RAND ONLY GAVE POSITIVE NUMBERS\n",
    "var2=np.random.randn(5)\n",
    "print(var2)\n",
    "\n",
    "#ranf()-> gives a number between 0 and 1 excluding 1\n",
    "nums=np.random.ranf(4)\n",
    "print(nums)\n",
    "\n",
    "#randint()-> gives random number between a user defined range\n",
    "random_range=np.random.randint(4,10,5) #(min vlaue,max value, total numbers to be genrated)\n",
    "print(random_range)"
   ]
  },
  {
   "cell_type": "code",
   "execution_count": null,
   "id": "8360dfd6-6815-4a78-ab40-c328f860c81b",
   "metadata": {},
   "outputs": [],
   "source": [
    "#datatypes in numpy"
   ]
  },
  {
   "cell_type": "code",
   "execution_count": 70,
   "id": "6052a30f-40e2-457d-9ece-64d2e5b83f7a",
   "metadata": {},
   "outputs": [
    {
     "name": "stdout",
     "output_type": "stream",
     "text": [
      "type of data type is int32\n",
      "the data type of array is float64\n",
      "the data type is <U8\n",
      "the data type is <U11\n"
     ]
    }
   ],
   "source": [
    "#boolean,int,intc,intp,int8,int16,int32,int64,uint8....,float,complex,....\n",
    "import numpy as np\n",
    "var=np.array([1,2,3,4])\n",
    "print(f\"type of data type is {var.dtype}\")\n",
    "\n",
    "float_type=np.array([1.2,2.2,3.2,5])\n",
    "print(f\"the data type of array is {float_type.dtype}\")\n",
    "\n",
    "str_type=np.array([\"Ashutosh\",\"ASHU\",\"HELLO\"]) #<U8\n",
    "print(f\"the data type is {str_type.dtype}\")\n",
    "\n",
    "mixed_data=np.array([1,2,3,4,5,\"ASHUTOSH\",\"TIWARI\"])\n",
    "print(f\"the data type is {mixed_data.dtype}\") #<U11\n",
    "\n"
   ]
  },
  {
   "cell_type": "code",
   "execution_count": 80,
   "id": "d68cbb58-8e74-48b6-b543-a72eba5f65f2",
   "metadata": {},
   "outputs": [
    {
     "name": "stdout",
     "output_type": "stream",
     "text": [
      "int32\n",
      "int8\n",
      "complex128\n",
      "[1.+0.j 2.+0.j 3.+0.j 4.+0.j 5.+0.j]   complex128\n",
      "[ 1.  2.  3.  4.  5.  6.  7.  8.  9. 10.]\n"
     ]
    }
   ],
   "source": [
    "#conversion from one datatype to other\n",
    "new_array=np.array([1,2,3,4])\n",
    "print(new_array.dtype) #tells datatype of array->here int32\n",
    "#lets convert int32 to int8\n",
    "new_array2=np.array([1,2,3,4],dtype=np.int8) #converted from int32 to int8\n",
    "print(new_array2.dtype)\n",
    "new_array2=np.array([1,2,3,4],dtype=np.cdouble) #converted from int32 to complex128\n",
    "print(new_array2.dtype)\n",
    "\n",
    "\n",
    "#another method to convert from one datatype to another\n",
    "x=np.array([1,2,3,4,5])\n",
    "y=np.cdouble(x) #complex datatype\n",
    "print(y,\" \",y.dtype)\n",
    "\n",
    "\n",
    "\n",
    "#another method using astype()\n",
    "c=np.array([1,2,3,4,5,6,7,8,9,10])\n",
    "d=c.astype(float)\n",
    "print(d)"
   ]
  },
  {
   "cell_type": "code",
   "execution_count": 109,
   "id": "d8301c4a-30b4-4d46-9dcd-1d21898829ab",
   "metadata": {},
   "outputs": [
    {
     "name": "stdout",
     "output_type": "stream",
     "text": [
      "[ 5  6  7  8  9 10]\n",
      "[11 22 33 44 55 66 77]\n",
      "[ -9 -18 -27 -36 -45 -54 -63]\n",
      "[10 20 30 40 50]\n",
      "ANSWER BY INBULIT METHOD [10 20 30 40 50]\n",
      "[0.1 0.2 0.3 0.4 0.5]\n",
      "ANSWER BY INBUILT METHOD [0.1 0.2 0.3 0.4 0.5]\n",
      "[1 2 3 4 0]\n",
      "the answer of mod using numpy is [1 2 3 4 0]\n",
      "the reciprocal of array is [1 0 0 0 0]\n",
      "[[ 11  24  39  56  75]\n",
      " [ 96 119 144 171 200]]\n",
      "the addition is [[12 14 16 18 20]\n",
      " [22 24 26 28 30]]\n"
     ]
    }
   ],
   "source": [
    "#ARITHMETIC OPERATIONS\n",
    "#addition of arrays np.add(a,b)\n",
    "#subtraction of arrays np.subtract(a,b)\n",
    "#multiplication of arrays np.multiply(a,b)\n",
    "#division of arrays np.divide(a,b)\n",
    "#modulus np.mod(%b)\n",
    "#power np.power(a,b)\n",
    "#reciprocal np.reciprocal(a)\n",
    "\n",
    "#addition\n",
    "arr=np.array([4,5,6,7,8,9])\n",
    "print(arr+1)\n",
    "\n",
    "\n",
    "arr1=np.array([1,2,3,4,5,6,7])\n",
    "arr2=np.array([10,20,30,40,50,60,70])\n",
    "addition:list=np.add(arr1,arr2)\n",
    "#alternative->addition=arr1+arr2\n",
    "print(addition)\n",
    "\n",
    "#subtraction\n",
    "#subtract:int=arr1-arr2\n",
    "#print(subtract) alternative\n",
    "ans:list=np.subtract(arr1,arr2)\n",
    "print(ans)\n",
    "\n",
    "#multiplication\n",
    "arr=np.array([1,2,3,4,5])\n",
    "m=arr*10\n",
    "print(m)\n",
    "\n",
    "#using multiply()\n",
    "answer=np.multiply(arr,10)\n",
    "print(f\"ANSWER BY INBULIT METHOD {answer}\")\n",
    "\n",
    "#divion\n",
    "arr2=np.array([1,2,3,4,5])\n",
    "m=arr2/10\n",
    "print(m)\n",
    "\n",
    "#using divide()\n",
    "ans_divide=np.divide(arr,10)\n",
    "print(f\"ANSWER BY INBUILT METHOD {ans_divide}\")\n",
    "\n",
    "#modulus\n",
    "arr3=np.array([1,2,3,4,5])\n",
    "m=arr3%5\n",
    "print(m)\n",
    "\n",
    "arr4=np.array([1,2,3,4,5])\n",
    "ans_mod=np.mod(arr4,5)\n",
    "print(f\"the answer of mod using numpy is {ans_mod}\")\n",
    "\n",
    "#recipocal\n",
    "recipocal_ans=np.reciprocal(arr4)\n",
    "print(f\"the reciprocal of array is {recipocal_ans}\")\n",
    "\n",
    "#creating a multidimensional array and doing arithmetic operation on it\n",
    "doubdimarr1=np.array([[1,2,3,4,5],[6,7,8,9,10]])\n",
    "doubdimarr2=np.array([[11,12,13,14,15],[16,17,18,19,20]])\n",
    "multi_2d=doubdimarr1*doubdimarr2\n",
    "print(multi_2d)\n",
    "\n",
    "\n",
    "#<-----------USING IN-BUILT METHODS FOR 2D ARRAYS------------------->\n",
    "array_2D1=np.array([[1,2,3,4,5],[6,7,8,9,10]])\n",
    "array_2D2=np.array([[11,12,13,14,15],[16,17,18,19,20]])\n",
    "addition_2d=np.add(array_2D1,array_2D2)\n",
    "print(f\"the addition is {addition_2d}\")\n",
    "\n"
   ]
  },
  {
   "cell_type": "code",
   "execution_count": 127,
   "id": "6b845654-f8bc-45e6-b811-855115680c30",
   "metadata": {},
   "outputs": [
    {
     "name": "stdout",
     "output_type": "stream",
     "text": [
      "maximum is 10\n",
      "minimum is 1\n",
      "Minimum value is present at location 0\n",
      "Maximum value is present at location 9\n",
      "the maximum value in 2d array is 9 at position 8\n",
      "[1 4 7]\n",
      "the square root of each element of array is [[ 6.  8.  9.]\n",
      " [ 5.  6.  7.]\n",
      " [ 8. 12. 11.]]\n",
      "the sin values are [ 0.84147098  0.90929743  0.14112001 -0.7568025  -0.95892427]\n",
      "the cos values are [ 0.54030231 -0.41614684 -0.9899925  -0.65364362  0.28366219]\n",
      "the cummulative sum is [ 1  3  6 10 15 21 28 36 45 55]\n"
     ]
    }
   ],
   "source": [
    "#ARTIHMETIC FUNCTIONS IN NUMPY\n",
    "\"\"\"\n",
    "np.min(x)\n",
    "np.max(x)\n",
    "np.argmin(x)\n",
    "np.sqrt(x)\n",
    "np.sin(x)\n",
    "np.cos(x)\n",
    "np.cumsum(x)\n",
    "\"\"\"\n",
    "import numpy as np\n",
    "value=np.array([1,2,3,4,5,6,7,8,9,10])\n",
    "print(f\"maximum is {np.max(value)}\")\n",
    "print(f\"minimum is {np.min(value)}\")\n",
    "\n",
    "#finding position at which min and max values are present\n",
    "print(f\"Minimum value is present at location {np.argmin(value)}\")\n",
    "print(f\"Maximum value is present at location {np.argmax(value)}\")\n",
    "\n",
    "\n",
    "#applying on a 2d array\n",
    "array_2d=np.array([[1,2,3],[4,5,6],[7,8,9]])\n",
    "print(f\"the maximum value in 2d array is {np.max(array_2d)} at position {np.argmax(array_2d)}\")\n",
    "\n",
    "#we can also find value about a axis\n",
    "#if axis=0->column    axis=1->row\n",
    "\n",
    "print(np.min(array_2d,axis=1)) #we got 1 4 7 har row se minimum value\n",
    "\n",
    "\n",
    "#sqrt()\n",
    "array5=np.array([[36,64,81],[25,36,49],[64,144,121]])\n",
    "sqr=np.sqrt(array5)\n",
    "\n",
    "print(f\"the square root of each element of array is {sqr}\")\n",
    "\n",
    "#sin cos values\n",
    "sin_matrix=np.array([1,2,3,4,5])\n",
    "print(f\"the sin values are {np.sin(sin_matrix)}\")\n",
    "print(f\"the cos values are {np.cos(sin_matrix)}\")\n",
    "\n",
    "\n",
    "#cummulative sum-> [1 2 3]->[1(as it is)  3(2+1)   6(3+2+1)]\n",
    "\n",
    "arr_new=np.array([1,2,3,4,5,6,7,8,9,10])\n",
    "print(f\"the cummulative sum is {np.cumsum(arr_new)}\")  #helpful in stats"
   ]
  },
  {
   "cell_type": "code",
   "execution_count": null,
   "id": "db237165-c8c1-4007-8602-76108bf0f5f5",
   "metadata": {},
   "outputs": [],
   "source": [
    "#shaping and reshaping"
   ]
  },
  {
   "cell_type": "code",
   "execution_count": 10,
   "id": "952d29c1-b133-43eb-8da0-06698c55b900",
   "metadata": {},
   "outputs": [
    {
     "name": "stdout",
     "output_type": "stream",
     "text": [
      "[[1 2 3 4]\n",
      " [1 2 3 4]]\n",
      "(2, 4)\n",
      "[[[[1 2 3 4]]]]\n",
      "(1, 1, 1, 4)\n"
     ]
    }
   ],
   "source": [
    "#converting from one dimension to another dimension\n",
    "\"\"\"\n",
    "[[1 2]\n",
    " [1 2]] this is a 2*2 matrix\n",
    " \"\"\"\n",
    "import numpy as np\n",
    "\n",
    "a=np.array([[1,2,3,4],[1,2,3,4]])\n",
    "\n",
    "print(a)\n",
    "\n",
    "#finding shape of array\n",
    "print(a.shape) #2*4\n",
    "\n",
    "\n",
    "b=np.array([1,2,3,4], ndmin=4) #makes a 4d array\n",
    "print(b)\n",
    "print(b.shape)"
   ]
  },
  {
   "cell_type": "code",
   "execution_count": 19,
   "id": "0fceada3-b81a-4728-890f-e637fc954ec7",
   "metadata": {},
   "outputs": [
    {
     "name": "stdout",
     "output_type": "stream",
     "text": [
      "[[1 2]\n",
      " [3 4]\n",
      " [5 6]]\n",
      "2\n",
      "[ 1  2  3  4  5  6  7  8  9 10 11 12]\n",
      "1\n",
      "[[[ 1  2]\n",
      "  [ 3  4]\n",
      "  [ 5  6]]\n",
      "\n",
      " [[ 7  8]\n",
      "  [ 9 10]\n",
      "  [11 12]]]\n",
      "3\n",
      "[ 1  2  3  4  5  6  7  8  9 10 11 12]\n"
     ]
    }
   ],
   "source": [
    "#reshaping from multi dimension to one dimension and vice versa\n",
    "arr1=np.array([1,2,3,4,5,6])\n",
    "\n",
    "x=arr1.reshape(3,2)    #kitti rows , kitte elements in one row\n",
    "#here we needed 3 rows and 2 elements in each row\n",
    "\"\"\"\n",
    "1 2\n",
    "3 4\n",
    "5 6\n",
    "\"\"\"\n",
    "print(x)\n",
    "#dimension of new array\n",
    "print(x.ndim)     #number of brackets tell dimension\n",
    "\n",
    "\n",
    "arr2=np.array([1,2,3,4,5,6,7,8,9,10,11,12])\n",
    "print(arr2)\n",
    "print(arr2.ndim)\n",
    "\n",
    "\n",
    "c=arr2.reshape(2,3,2)\n",
    "print(c)\n",
    "print(c.ndim)\n",
    "\n",
    "\n",
    "#3d array to 1d array\n",
    "f=c.reshape(-1)  #c now back to one dimension array\n",
    "print(f)\n"
   ]
  },
  {
   "cell_type": "code",
   "execution_count": 25,
   "id": "6da03744-671c-4a7a-b716-ca3c68718ada",
   "metadata": {},
   "outputs": [
    {
     "name": "stdout",
     "output_type": "stream",
     "text": [
      "(4,)\n",
      "(3, 1)\n",
      "[[2 3 4 5]\n",
      " [3 4 5 6]\n",
      " [4 5 6 7]]\n"
     ]
    }
   ],
   "source": [
    "#BROADCASTING-> before operating 1)dimension should be same 2)kisi ek ke pass value same hona chahiye \n",
    "#it occurs during arithmetic operation of two arrays\n",
    "import numpy as np\n",
    "var1=np.array([1,2,3,4])\n",
    "print(var1.shape)\n",
    "var2=np.array([[1],[2],[3]])\n",
    "print(var2.shape)\n",
    "print(var1+var2)  #here error because we can not add 1*4 array with 1*3 array\n"
   ]
  },
  {
   "cell_type": "code",
   "execution_count": null,
   "id": "0217d799-6c07-4bb4-97d3-179b2d0ee210",
   "metadata": {},
   "outputs": [],
   "source": [
    "#indexing and slicing \n",
    "#indexing of a numpy array\n",
    "\"\"\"\n",
    "[1 2 3 4]\n",
    "0 1 2 3 ->indexing og 1 D \n",
    "-4 -3 -2 -1->indexing of 1 D\n",
    "\n",
    "\n",
    "2d\n",
    "  0 1\n",
    "[[1 2]->0\n",
    " [3 4]]->1\n",
    "\n",
    "\n",
    "3d \n",
    "    0  1 2\n",
    "[[ [1 2 3]->0\n",
    "  [4 5 6]->1 ]->0\n",
    "  [ [1 2 3]\n",
    "  [1 2 3] ]->1]\n",
    "\"\"\"\n"
   ]
  },
  {
   "cell_type": "code",
   "execution_count": 50,
   "id": "bd8655e2-1218-4a38-b140-c3236a75c75c",
   "metadata": {},
   "outputs": [
    {
     "name": "stdout",
     "output_type": "stream",
     "text": [
      "6\n",
      "6\n",
      "10\n",
      "2\n",
      "Getting value 8\n",
      "3\n",
      "4\n",
      "[5 7]\n",
      "[ 3  4  5  6  7  8  9 10]\n",
      "[1 2 3 4 5 6 7]\n",
      "[1 3 5 7 9]\n",
      "[2 3 4 5]\n"
     ]
    }
   ],
   "source": [
    "import numpy as np\n",
    "\n",
    "#1 dimension array\n",
    "#indexing is 0,1,2,3,4,5,6,7,8...\n",
    "a=np.array([1,2,3,4,5,6,7,8,9,10])\n",
    " #                    .....3-2-1-\n",
    "print(a[5])\n",
    "print(a[-5])\n",
    "print(a[-1])\n",
    "\n",
    "#2 dimension array\n",
    "twod_array=np.array([[1,2,3,4,5,6,7,8,9,10],[1,2,3,4,5,6,7,8,9,10]])\n",
    "print(twod_array.ndim)\n",
    "print(f\"Getting value {twod_array[0,7]}\")\n",
    "\n",
    "#3 dimension array\n",
    "var3=np.array([[[1,2],[3,4]]])\n",
    "print(var3.ndim)\n",
    "print(var3[0,1,1]) #index for value 4\n",
    "\n",
    "\n",
    "#slicing\n",
    "list_nums=np.array([1,2,3,4,5,6,7,8,9,10])\n",
    "#start:stop:jump\n",
    "print(list_nums[4:8:2]) #4 se 8 with 2 increased.\n",
    "\n",
    "print(list_nums[2:]) #from 3 to end.\n",
    "\n",
    "print(list_nums[:7]) #from start to 7.\n",
    "\n",
    "\n",
    "print(list_nums[::2]) #from start to end with 2 increased.\n",
    "\n",
    "\n",
    "#2 dimension array slicing\n",
    "#[x,y:step] -> x is row and y is column\n",
    "array_2d=np.array([[1,2,3,4,5],[6,7,8,9,10]])\n",
    "print(array_2d[0,1:])"
   ]
  },
  {
   "cell_type": "code",
   "execution_count": 60,
   "id": "a2f6fab4-d817-42c0-9e55-7ea14a25f92b",
   "metadata": {},
   "outputs": [
    {
     "name": "stdout",
     "output_type": "stream",
     "text": [
      "1\n",
      "2\n",
      "3\n",
      "4\n",
      "5\n",
      "\n",
      "1\n",
      "2\n",
      "3\n",
      "4\n",
      "5\n",
      "6\n",
      "7\n",
      "8\n",
      "9\n",
      "10\n",
      "<------------------>\n",
      "1\n",
      "2\n",
      "3\n",
      "4\n",
      "5\n",
      "6\n",
      "7\n",
      "8\n",
      "9\n",
      "10\n",
      "ITERATING WITHOUT USING FOR LOOP\n",
      "1\n",
      "2\n",
      "3\n",
      "4\n",
      "5\n",
      "6\n",
      "7\n",
      "8\n",
      "9\n",
      "10\n",
      "(0, 0, 0) 1\n",
      "(0, 0, 1) 2\n",
      "(0, 0, 2) 3\n",
      "(0, 0, 3) 4\n",
      "(0, 0, 4) 5\n",
      "(0, 1, 0) 6\n",
      "(0, 1, 1) 7\n",
      "(0, 1, 2) 8\n",
      "(0, 1, 3) 9\n",
      "(0, 1, 4) 10\n"
     ]
    }
   ],
   "source": [
    "#numpy iteration\n",
    "import numpy as np\n",
    "\n",
    "arr1=np.array([1,2,3,4,5])\n",
    "\n",
    "for i in arr1:\n",
    "    print(i)\n",
    "\n",
    "print() #for empty line\n",
    "arr2=np.array([[1,2,3,4,5],[6,7,8,9,10]])\n",
    "for i in arr2:\n",
    "    for j in i:\n",
    "        print(j)\n",
    "\n",
    "print(f\"<------------------>\")\n",
    "#for 3d array\n",
    "threedim_array=np.array([[[1,2,3,4,5],\n",
    "                          [6,7,8,9,10]]])\n",
    "for i in threedim_array:\n",
    "    for j in i:\n",
    "        for k in j:\n",
    "            print(k)\n",
    "\n",
    "\n",
    "#nditer() ->used for iteration without for loop\n",
    "print(f\"ITERATING WITHOUT USING FOR LOOP\")\n",
    "for h in np.nditer(threedim_array):\n",
    "    print(h)\n",
    "\n",
    "\n",
    "#if we want data and index value too we use ndenumerate() method\n",
    "for u,v in np.ndenumerate(threedim_array):\n",
    "    print(u,v)"
   ]
  },
  {
   "cell_type": "code",
   "execution_count": 1,
   "id": "c7d9fd7c-d28a-4842-9c78-b9743361be7b",
   "metadata": {},
   "outputs": [
    {
     "name": "stdout",
     "output_type": "stream",
     "text": [
      "[ 1  2  3  4  5  6  7  8  9 10]\n",
      "[ 1  2  3  4  5  6  7  8  9 10]\n",
      "[5 4 7 8 9 2 0]\n",
      "[5 4 7 8 9 2 0]\n"
     ]
    }
   ],
   "source": [
    "#copy and view\n",
    "#both are used to copy elements\n",
    "import numpy as np\n",
    "\n",
    "a=np.array([1,2,3,4,5,6,7,8,9,10])\n",
    "copy_array=a.copy()\n",
    "print(a)\n",
    "print(copy_array)\n",
    "\n",
    "\n",
    "#view()\n",
    "b=np.array([5,4,7,8,9,2,0])\n",
    "b_view=b.view()\n",
    "print(b)\n",
    "print(b_view)\n",
    "\n",
    "#copy()-> new array. changes in new array does not effect original array\n",
    "#view()->overrides the array. so changes will be shown in both"
   ]
  },
  {
   "cell_type": "code",
   "execution_count": 13,
   "id": "08234cd6-214f-454f-bde0-5c7767bf7383",
   "metadata": {},
   "outputs": [
    {
     "name": "stdout",
     "output_type": "stream",
     "text": [
      "[ 1  2  3  4  5  6  7  8  9 10]\n",
      "[[ 1  2  3  7  8  9]\n",
      " [ 4  5  6 10 11 12]]\n",
      "[[ 1  2  3]\n",
      " [ 4  5  6]\n",
      " [ 7  8  9]\n",
      " [10 11 12]]\n",
      "The array merged using stack() function is \n",
      "[[[ 1  2  3]\n",
      "  [ 4  5  6]]\n",
      "\n",
      " [[ 7  8  9]\n",
      "  [10 11 12]]]\n",
      "merge about row\n",
      "[[ 1  2  3  7  8  9]\n",
      " [ 4  5  6 10 11 12]]\n",
      "Merge about column\n",
      "[[ 1  2  3]\n",
      " [ 4  5  6]\n",
      " [ 7  8  9]\n",
      " [10 11 12]]\n",
      "Merge about height\n",
      "[[[ 1  7]\n",
      "  [ 2  8]\n",
      "  [ 3  9]]\n",
      "\n",
      " [[ 4 10]\n",
      "  [ 5 11]\n",
      "  [ 6 12]]]\n"
     ]
    }
   ],
   "source": [
    "#joining and spliting arrays\n",
    "import numpy as np\n",
    "\n",
    "a=np.array([1,2,3,4,5])\n",
    "b=np.array([6,7,8,9,10])\n",
    "\n",
    "merged=np.concatenate((a,b))\n",
    "print(merged)\n",
    "\n",
    "\n",
    "\n",
    "#2d array\n",
    "var=np.array([[1,2,3],[4,5,6]])\n",
    "var2=np.array([[7,8,9],[10,11,12]])\n",
    "\n",
    "#here we need to tell axis \n",
    "new=np.concatenate((var,var2),axis=1) \n",
    "new2=np.concatenate((var,var2),axis=0)\n",
    "print(new)\n",
    "print(new2)\n",
    "\n",
    "\n",
    "#merging using stack() function\n",
    "new_arr=np.stack((var,var2))\n",
    "#to merge about row we can use hstack()\n",
    "#to merge about column we can use vstack()\n",
    "#to mergee about height we use dstack()\n",
    "\n",
    "print(\"The array merged using stack() function is \")\n",
    "print(new_arr)\n",
    "\n",
    "print(\"merge about row\")\n",
    "new_ar_row=np.hstack((var,var2)) #hstakc->horizontally\n",
    "print(new_ar_row)\n",
    "\n",
    "\n",
    "print(\"Merge about column\")\n",
    "new_ar_col=np.vstack((var,var2))  #vstack-> vertically\n",
    "print(new_ar_col)\n",
    "\n",
    "print(\"Merge about height\")\n",
    "new_ar_ht=np.dstack((var,var2))\n",
    "print(new_ar_ht)\n"
   ]
  },
  {
   "cell_type": "code",
   "execution_count": 27,
   "id": "ce02cf3a-4667-4469-83f4-1c838b447dc4",
   "metadata": {},
   "outputs": [
    {
     "name": "stdout",
     "output_type": "stream",
     "text": [
      "[array([1, 2, 3, 4, 5]), array([ 6,  7,  8,  9, 10])]\n",
      "[array([[1, 2, 3]]), array([[4, 5, 6]])]\n",
      "[array([1, 2, 3, 4]), array([5, 6, 7]), array([ 8,  9, 10])]\n"
     ]
    }
   ],
   "source": [
    "#SPLITTING OF ARRAYS\n",
    "import numpy as np\n",
    "\n",
    "a=np.array([1,2,3,4,5,6,7,8,9,10])\n",
    "splitted=np.array_split(a,2)  #split array a in 2 arrays \n",
    "print(splitted)\n",
    "\n",
    "\n",
    "#2d array\n",
    "twod_arr=np.array([[1,2,3],[4,5,6]])\n",
    "splitted_twod=np.array_split(twod_arr,2)\n",
    "print(splitted_twod)\n",
    "\n",
    "\n",
    "#splitting about axis\n",
    "a2=np.array([1,2,3,4,5,6,7,8,9,10])\n",
    "splitted_about_axis=np.array_split(a2,3)\n",
    "print(splitted_about_axis)"
   ]
  },
  {
   "cell_type": "code",
   "execution_count": 47,
   "id": "9ff46289-0f52-40f7-bf29-c48029f4695b",
   "metadata": {},
   "outputs": [
    {
     "name": "stdout",
     "output_type": "stream",
     "text": [
      "(array([ 3, 13], dtype=int64),)\n",
      "4\n",
      "[ 1  2  4  7  8  9 10 12 12]\n",
      "['A' 'B' 'G' 'V' 'b' 'f' 'p']\n",
      "[[ 1  2  2  5  7  8]\n",
      " [ 1  5 10 14 26 28]]\n",
      "[ 1  8  9 32]\n",
      "[ 8  9  1  5  4  2 10  3  6  7]\n",
      "[1 2 3 4 5]\n",
      "[[1 2 3]\n",
      " [4 5 6]]\n",
      "[ 1  2  3  4  5  6  7  8  9 10]\n",
      "[ 1  6  2  7  3  8  4  9  5 10]\n",
      "[ 1  2  3  4  5  6  7  8  9 10]\n"
     ]
    }
   ],
   "source": [
    "#Functions in numpy arrays ->search sort filter....etc.\n",
    "import numpy as np\n",
    "\n",
    "h=np.array([1,2,3,14,15,16,17,18,19,10,11,12,13,14,15,16,17,18,19,20])\n",
    "\n",
    "\n",
    "#we want to search where element is present in array\n",
    "x=np.where(h==14)\n",
    "print(x) #we got output [3,13] -> 14 is present at index 3 and 13.\n",
    "\n",
    "#To search a sorted array\n",
    "sorted=np.array([10,20,30,40,50,60,70,80,90,100])\n",
    "searched=np.searchsorted(sorted,45) #if we add 45 in sorted array where it should be placed is told by this function\n",
    "print(searched)\n",
    "\n",
    "\n",
    "#how to sort array\n",
    "\n",
    "u=np.array([4,8,7,2,9,1,10,12,12])\n",
    "sort_array=np.sort(u)\n",
    "print(sort_array)\n",
    "\n",
    "alphabets=np.array(['A','G','B','f','p','b','V'])\n",
    "print(np.sort(alphabets))\n",
    "\n",
    "#sorting a 2d array\n",
    "sort_2d=np.array([[1,2,5,7,8,2],[14,10,1,5,26,28]]) #2d arrays sorting means sort each row accordingly\n",
    "print(np.sort(sort_2d))\n",
    "\n",
    "#filtering of array-> it creates a new array with all the filtered elements\n",
    "aww=np.array([1,2,5,8,9,96,32])\n",
    "f=[True,False,False,True,True,False,True] #we will filter based on this array. Jin indexes pe here true only those indexes will be filtered out\n",
    "new_array=aww[f]\n",
    "print(new_array)\n",
    "\n",
    "#shuffle function\n",
    "arr_to_be_shuffled=np.array([1,2,3,4,5,6,7,8,9,10])\n",
    "np.random.shuffle(arr_to_be_shuffled)\n",
    "print(arr_to_be_shuffled)\n",
    "\n",
    "#unique\n",
    "unique=np.array([1,1,1,1,2,2,2,3,3,3,3,3,3,4,4,5])\n",
    "print(np.unique(unique)) #removes repetitions\n",
    "\n",
    "#resize\n",
    "gr=np.array([1,2,3,4,5,6])\n",
    "resized=np.resize(gr,(2,3)) #resized 1d array to 2*3 array\n",
    "print(resized)\n",
    "\n",
    "#flatten->2d to 1d \n",
    "array_to_be_flattened=np.array([[1,2,3,4,5],[6,7,8,9,10]])\n",
    "print(array_to_be_flattened.flatten())\n",
    "\n",
    "#to flatten about some particular axis\n",
    "\"\"\"\n",
    "C-> ROW MAJOR\n",
    "F-> COLUMN MAJOR\n",
    "K-> TO FLATTEN IN ORDER THE ELEMENTS OCCUR IN MEMORY\n",
    "DEFAULT MODE IS C\"\"\"\n",
    "\n",
    "print(array_to_be_flattened.flatten(order=\"F\"))\n",
    "print(np.ravel(array_to_be_flattened))"
   ]
  },
  {
   "cell_type": "code",
   "execution_count": 65,
   "id": "5a3f89ef-f191-492a-aa8e-e96f74e458d0",
   "metadata": {},
   "outputs": [
    {
     "name": "stdout",
     "output_type": "stream",
     "text": [
      "[ 1  2  3  4 40  5  6  7  8  9 10]\n",
      "[ 1  2  3  4 40  5  6  7  8  9 40 10]\n",
      "[[ 1  2  6  3  4  5  6]\n",
      " [ 7  8  6  9 10 11 12]]\n",
      "[ 1  2  3  4  5  6  7  8  9 10]\n",
      "[ 1  2  3  4  5  7  8  9 10]\n"
     ]
    }
   ],
   "source": [
    "#insertion and deletion\n",
    "import numpy as np\n",
    "arr=np.array([1,2,3,4,5,6,7,8,9,10])\n",
    "\n",
    "v=np.insert(arr,4,40) #insert 40 at index 4\n",
    "print(v)\n",
    "\n",
    "#we also insert at multiple positions insert 40 at 4 and 9 positions\n",
    "p=np.insert(arr,(4,9),40)\n",
    "print(p)\n",
    "\n",
    "#inserting at 2D arrays\n",
    "twod_arr=np.array([[1,2,3,4,5,6],[7,8,9,10,11,12]])\n",
    "r=np.insert(twod_arr,2,6,axis=1)\n",
    "print(r)\n",
    "\n",
    "\n",
    "#append()-> add element at end\n",
    "u=np.array([1,2,3,4,5,6,7,8,9])\n",
    "v=np.append(u,10)\n",
    "print(v)\n",
    "\n",
    "#delete()-> delete a data at given position\n",
    "e=np.array([1,2,3,4,5,6,7,8,9,10])\n",
    "b=np.delete(e,5) #(array,index)\n",
    "print(b)"
   ]
  },
  {
   "cell_type": "code",
   "execution_count": 84,
   "id": "f98a8ced-aaee-4d2b-a383-9e500a9a177d",
   "metadata": {},
   "outputs": [
    {
     "name": "stdout",
     "output_type": "stream",
     "text": [
      "<class 'numpy.matrix'>\n",
      "<class 'numpy.ndarray'>\n",
      "[[ 30  36  42]\n",
      " [ 66  81  96]\n",
      " [102 126 150]]\n",
      "[[1 4]\n",
      " [2 5]\n",
      " [3 6]]\n",
      "[[1 4]\n",
      " [2 5]\n",
      " [3 6]]\n",
      "[[1 3]\n",
      " [2 4]]\n",
      "inverse is [[-2.   1. ]\n",
      " [ 1.5 -0.5]]\n",
      "Power is [[ 7 10]\n",
      " [15 22]]\n",
      "[[1 0]\n",
      " [0 1]]\n",
      "the determinant of matrix is -2.0000000000000004\n"
     ]
    }
   ],
   "source": [
    "#MATRICES IN NUMPY\n",
    "\"\"\"\n",
    "[[123]\n",
    " [456]\n",
    " [789]]\n",
    " 3*3 matrix\n",
    " main diff is  b/w multiplication in matrix and array\n",
    " \"\"\"\n",
    "import numpy as np\n",
    "matrix1=np.matrix([[1,2,3],[4,5,6],[7,8,9]])\n",
    "matrix2=np.matrix([[1,2,3],[4,5,6],[7,8,9]])\n",
    "print(type(matrix1))\n",
    "\n",
    "arr1=np.array([[1,2,3],[4,5,6]])\n",
    "print(type(arr1))\n",
    "\n",
    "\"\"\"\n",
    "array multiplication only first value with first value\n",
    "matrix   \" mai first row woth first column ........\n",
    "\"\"\"\n",
    "#for matrix multiplication we use dot ()\n",
    "print(matrix1.dot(matrix2))\n",
    "\n",
    "\n",
    "#matrix functions in numpy\n",
    "#like inverse etc.\n",
    "\"\"\"\n",
    "transpose\n",
    "swapaxes\n",
    "inverse\n",
    "power\n",
    "determinate\n",
    "\"\"\"\n",
    "\n",
    "mat=np.matrix([[1,2,3],[4,5,6]])\n",
    "print(np.transpose(mat))\n",
    "\n",
    "#swapaxes\n",
    "print(np.swapaxes(mat,0,1))\n",
    "\n",
    "mat2=np.matrix([[1,2],[3,4]])\n",
    "print(np.swapaxes(mat2,0,1))\n",
    "\n",
    "#Inverse\n",
    "print(f\"inverse is {np.linalg.inv(mat2)}\")\n",
    "\n",
    "\n",
    "#power of matrix\n",
    "#A2=A*A\n",
    "print(f\"Power is {np.linalg.matrix_power(mat2,2)}\")\n",
    "\n",
    "\n",
    "print(f\"{np.linalg.matrix_power(mat2,0)}\") #identity matrix\n",
    "\n",
    "\n",
    "#determinant \n",
    "\n",
    "print(f\"the determinant of matrix is {np.linalg.det(mat2)}\")\n",
    "\n"
   ]
  }
 ],
 "metadata": {
  "kernelspec": {
   "display_name": "Python 3 (ipykernel)",
   "language": "python",
   "name": "python3"
  },
  "language_info": {
   "codemirror_mode": {
    "name": "ipython",
    "version": 3
   },
   "file_extension": ".py",
   "mimetype": "text/x-python",
   "name": "python",
   "nbconvert_exporter": "python",
   "pygments_lexer": "ipython3",
   "version": "3.11.7"
  }
 },
 "nbformat": 4,
 "nbformat_minor": 5
}
